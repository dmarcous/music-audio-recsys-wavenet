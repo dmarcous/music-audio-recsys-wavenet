{
 "cells": [
  {
   "cell_type": "code",
   "execution_count": 1,
   "metadata": {
    "collapsed": true
   },
   "outputs": [],
   "source": [
    "import pandas as pd\n",
    "import pickle\n",
    "from collections import Counter"
   ]
  },
  {
   "cell_type": "code",
   "execution_count": 2,
   "metadata": {
    "collapsed": true
   },
   "outputs": [],
   "source": [
    "# Read EchoNest song ids\n",
    "with open('./data/songs.pkl', mode='rb') as f:\n",
    "    songs = pickle.load(f)"
   ]
  },
  {
   "cell_type": "code",
   "execution_count": 3,
   "metadata": {
    "collapsed": true
   },
   "outputs": [],
   "source": [
    "def get7digitalID(ID):\n",
    "    a = pd.read_json('./data/millionsongdataset_echonest/{0}/{1}.json'.format(ID[2:4], ID))\n",
    "    try:\n",
    "        return [[x['foreign_id'][-7:],x['foreign_release_id'][-6:]] for x in a.loc['songs'][0][0]['tracks'] if x['catalog'] == '7digital-UK']\n",
    "    except:\n",
    "        return []"
   ]
  },
  {
   "cell_type": "code",
   "execution_count": 4,
   "metadata": {
    "collapsed": false
   },
   "outputs": [],
   "source": [
    "EN_to_7D = {s:i for (s,i) in zip(songs.keys(), list(map(get7digitalID, songs.keys())))}"
   ]
  },
  {
   "cell_type": "code",
   "execution_count": 5,
   "metadata": {
    "collapsed": true
   },
   "outputs": [],
   "source": [
    "# Save EchoNest to 7Digital dictionary\n",
    "with open('./data/EN_to_7D.pkl', mode='wb') as f:\n",
    "    pickle.dump(EN_to_7D, f)"
   ]
  },
  {
   "cell_type": "code",
   "execution_count": 6,
   "metadata": {
    "collapsed": false
   },
   "outputs": [
    {
     "data": {
      "text/plain": [
       "384546"
      ]
     },
     "execution_count": 6,
     "metadata": {},
     "output_type": "execute_result"
    }
   ],
   "source": [
    "len(EN_to_7D)"
   ]
  },
  {
   "cell_type": "code",
   "execution_count": 7,
   "metadata": {
    "collapsed": false
   },
   "outputs": [
    {
     "data": {
      "text/plain": [
       "Counter({0: 126899,\n",
       "         1: 177740,\n",
       "         2: 51539,\n",
       "         3: 14959,\n",
       "         4: 5666,\n",
       "         5: 2519,\n",
       "         6: 1378,\n",
       "         7: 879,\n",
       "         8: 580,\n",
       "         9: 420,\n",
       "         10: 294,\n",
       "         11: 226,\n",
       "         12: 193,\n",
       "         13: 172,\n",
       "         14: 141,\n",
       "         15: 87,\n",
       "         16: 79,\n",
       "         17: 72,\n",
       "         18: 73,\n",
       "         19: 56,\n",
       "         20: 45,\n",
       "         21: 65,\n",
       "         22: 42,\n",
       "         23: 36,\n",
       "         24: 41,\n",
       "         25: 30,\n",
       "         26: 30,\n",
       "         27: 20,\n",
       "         28: 28,\n",
       "         29: 14,\n",
       "         30: 21,\n",
       "         31: 23,\n",
       "         32: 13,\n",
       "         33: 13,\n",
       "         34: 12,\n",
       "         35: 8,\n",
       "         36: 7,\n",
       "         37: 13,\n",
       "         38: 12,\n",
       "         39: 13,\n",
       "         40: 5,\n",
       "         41: 6,\n",
       "         42: 3,\n",
       "         43: 5,\n",
       "         44: 2,\n",
       "         45: 3,\n",
       "         46: 7,\n",
       "         48: 6,\n",
       "         49: 5,\n",
       "         50: 1,\n",
       "         51: 2,\n",
       "         52: 3,\n",
       "         53: 1,\n",
       "         54: 2,\n",
       "         55: 2,\n",
       "         56: 1,\n",
       "         57: 4,\n",
       "         58: 1,\n",
       "         63: 3,\n",
       "         64: 1,\n",
       "         67: 2,\n",
       "         68: 2,\n",
       "         71: 1,\n",
       "         72: 2,\n",
       "         73: 1,\n",
       "         74: 1,\n",
       "         76: 1,\n",
       "         77: 2,\n",
       "         78: 2,\n",
       "         87: 1,\n",
       "         88: 1,\n",
       "         90: 2,\n",
       "         106: 1,\n",
       "         113: 1,\n",
       "         114: 1,\n",
       "         123: 1,\n",
       "         139: 1,\n",
       "         144: 1,\n",
       "         232: 1})"
      ]
     },
     "execution_count": 7,
     "metadata": {},
     "output_type": "execute_result"
    }
   ],
   "source": [
    "Counter([len(v) for (k,v) in EN_to_7D.items()])"
   ]
  },
  {
   "cell_type": "code",
   "execution_count": null,
   "metadata": {
    "collapsed": true
   },
   "outputs": [],
   "source": []
  },
  {
   "cell_type": "code",
   "execution_count": null,
   "metadata": {
    "collapsed": true
   },
   "outputs": [],
   "source": []
  }
 ],
 "metadata": {
  "anaconda-cloud": {},
  "kernelspec": {
   "display_name": "Python [conda root]",
   "language": "python",
   "name": "conda-root-py"
  },
  "language_info": {
   "codemirror_mode": {
    "name": "ipython",
    "version": 3
   },
   "file_extension": ".py",
   "mimetype": "text/x-python",
   "name": "python",
   "nbconvert_exporter": "python",
   "pygments_lexer": "ipython3",
   "version": "3.5.2"
  }
 },
 "nbformat": 4,
 "nbformat_minor": 2
}
