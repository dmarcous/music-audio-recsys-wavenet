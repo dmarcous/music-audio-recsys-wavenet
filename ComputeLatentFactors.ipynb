{
 "cells": [
  {
   "cell_type": "markdown",
   "metadata": {},
   "source": [
    "## Create user-song matrix"
   ]
  },
  {
   "cell_type": "code",
   "execution_count": 1,
   "metadata": {
    "collapsed": true
   },
   "outputs": [],
   "source": [
    "import pandas as pd\n",
    "from scipy.sparse import csr_matrix\n",
    "import pickle"
   ]
  },
  {
   "cell_type": "code",
   "execution_count": 5,
   "metadata": {
    "collapsed": true
   },
   "outputs": [],
   "source": [
    "# Give a unique index for each user\n",
    "users = pd.read_csv('./data/train_triplets.txt',sep='\\t', header=None, usecols=[0], names=['user']).user.unique()\n",
    "users = {u:i for (i,u) in enumerate(users)}\n",
    "with open('./data/users.pkl', mode='wb') as f:\n",
    "    pickle.dump(users, f)"
   ]
  },
  {
   "cell_type": "code",
   "execution_count": 18,
   "metadata": {
    "collapsed": true
   },
   "outputs": [],
   "source": [
    "# Give a unique index for each song\n",
    "songs = pd.read_csv('./data/train_triplets.txt',sep='\\t', header=None, usecols=[1], names=['song']).song.unique()\n",
    "songs = {u:i for (i,u) in enumerate(songs)}\n",
    "with open('./data/songs.pkl', mode='wb') as f:\n",
    "    pickle.dump(songs, f)"
   ]
  },
  {
   "cell_type": "code",
   "execution_count": 7,
   "metadata": {
    "collapsed": true
   },
   "outputs": [],
   "source": [
    "# Load the users and song dictionaries\n",
    "with open('./data/users.pkl', mode='rb') as f:\n",
    "    users = pickle.load(f)\n",
    "with open('./data/songs.pkl', mode='rb') as f:\n",
    "    songs = pickle.load(f)"
   ]
  },
  {
   "cell_type": "code",
   "execution_count": 12,
   "metadata": {
    "collapsed": true
   },
   "outputs": [],
   "source": [
    "# Iterate over the triplets file, and save the listening data in row,col,data lists\n",
    "row = []\n",
    "col = []\n",
    "data = []\n",
    "with open('./data/train_triplets.txt') as f:\n",
    "    for line in f:\n",
    "        s = line.strip().split('\\t')\n",
    "        row.append(users[s[0]])\n",
    "        col.append(songs[s[1]])\n",
    "        data.append(int(s[2]))"
   ]
  },
  {
   "cell_type": "code",
   "execution_count": 18,
   "metadata": {
    "collapsed": true
   },
   "outputs": [],
   "source": [
    "# Create the sparse matrix\n",
    "echonest_data = csr_matrix((data, (row, col)), shape=(len(users), len(songs)))\n",
    "with open('./data/echonest_data.pkl', mode='wb') as f:\n",
    "    pickle.dump(echonest_data, f)"
   ]
  },
  {
   "cell_type": "markdown",
   "metadata": {},
   "source": [
    "## Calculate the latent factors from the user-song matrix"
   ]
  },
  {
   "cell_type": "code",
   "execution_count": 1,
   "metadata": {
    "collapsed": true
   },
   "outputs": [],
   "source": [
    "import pickle\n",
    "import wmf"
   ]
  },
  {
   "cell_type": "code",
   "execution_count": 3,
   "metadata": {
    "collapsed": true
   },
   "outputs": [],
   "source": [
    "# Load the data\n",
    "with open('./data/echonest_data.pkl', mode='rb') as f:\n",
    "    data = pickle.load(f)\n",
    "# data = pd.read_pickle(\"data/test_matrix.pkl\")"
   ]
  },
  {
   "cell_type": "code",
   "execution_count": 4,
   "metadata": {
    "collapsed": false
   },
   "outputs": [
    {
     "name": "stdout",
     "output_type": "stream",
     "text": [
      "precompute transpose\n",
      "  took 3.356 seconds\n",
      "run ALS algorithm\n",
      "  iteration 0\n",
      "    recompute user factors U\n",
      "    time since start: 134.064 seconds\n",
      "    recompute item factors V\n",
      "    time since start: 222.585 seconds\n",
      "  iteration 1\n",
      "    recompute user factors U\n",
      "    time since start: 369.029 seconds\n",
      "    recompute item factors V\n",
      "    time since start: 466.506 seconds\n",
      "  iteration 2\n",
      "    recompute user factors U\n",
      "    time since start: 601.748 seconds\n",
      "    recompute item factors V\n",
      "    time since start: 668.367 seconds\n",
      "  iteration 3\n",
      "    recompute user factors U\n",
      "    time since start: 783.951 seconds\n",
      "    recompute item factors V\n",
      "    time since start: 854.010 seconds\n",
      "  iteration 4\n",
      "    recompute user factors U\n",
      "    time since start: 974.096 seconds\n",
      "    recompute item factors V\n",
      "    time since start: 1051.623 seconds\n",
      "  iteration 5\n",
      "    recompute user factors U\n",
      "    time since start: 1179.918 seconds\n",
      "    recompute item factors V\n",
      "    time since start: 1262.831 seconds\n",
      "  iteration 6\n",
      "    recompute user factors U\n",
      "    time since start: 1393.175 seconds\n",
      "    recompute item factors V\n",
      "    time since start: 1460.650 seconds\n",
      "  iteration 7\n",
      "    recompute user factors U\n",
      "    time since start: 1578.579 seconds\n",
      "    recompute item factors V\n",
      "    time since start: 1653.336 seconds\n",
      "  iteration 8\n",
      "    recompute user factors U\n",
      "    time since start: 1780.774 seconds\n",
      "    recompute item factors V\n",
      "    time since start: 1849.861 seconds\n",
      "  iteration 9\n",
      "    recompute user factors U\n",
      "    time since start: 1971.791 seconds\n",
      "    recompute item factors V\n",
      "    time since start: 2037.499 seconds\n"
     ]
    }
   ],
   "source": [
    "# Calcualte latent factors\n",
    "S = wmf.log_surplus_confidence_matrix(data, alpha=2.0, epsilon=1e-6)\n",
    "U, V = wmf.factorize(S, num_factors=40, lambda_reg=1e-5, num_iterations=10, init_std=0.01, verbose=True, dtype='float32', recompute_factors=wmf.recompute_factors_bias)"
   ]
  },
  {
   "cell_type": "code",
   "execution_count": 4,
   "metadata": {
    "collapsed": false
   },
   "outputs": [
    {
     "data": {
      "text/plain": [
       "(384546, 40)"
      ]
     },
     "execution_count": 4,
     "metadata": {},
     "output_type": "execute_result"
    }
   ],
   "source": [
    "V.shape"
   ]
  },
  {
   "cell_type": "code",
   "execution_count": null,
   "metadata": {
    "collapsed": true
   },
   "outputs": [],
   "source": [
    "with open('./data/users.pkl', mode='rb') as f:\n",
    "    users = pickle.load(f)\n",
    "with open('./data/songs.pkl', mode='rb') as f:\n",
    "    songs = pickle.load(f)"
   ]
  },
  {
   "cell_type": "code",
   "execution_count": null,
   "metadata": {
    "collapsed": true
   },
   "outputs": [],
   "source": [
    "U = {i:v for (i,v) in enumerate(U)}\n",
    "V = {i:v for (i,v) in enumerate(V)}"
   ]
  },
  {
   "cell_type": "code",
   "execution_count": null,
   "metadata": {
    "collapsed": true
   },
   "outputs": [],
   "source": [
    "users = {u:U[i] for (u,i) in users.items()}\n",
    "songs = {s:V[i] for (s,i) in songs.items()}"
   ]
  },
  {
   "cell_type": "code",
   "execution_count": null,
   "metadata": {
    "collapsed": true
   },
   "outputs": [],
   "source": [
    "# Save the song latent factors\n",
    "with open('./data/user_latent_factors.pkl', mode='wb') as f:\n",
    "    pickle.dump(users, f)\n",
    "with open('./data/song_latent_factors.pkl', mode='wb') as f:\n",
    "    pickle.dump(songs, f)"
   ]
  }
 ],
 "metadata": {
  "anaconda-cloud": {},
  "kernelspec": {
   "display_name": "Python [conda root]",
   "language": "python",
   "name": "conda-root-py"
  },
  "language_info": {
   "codemirror_mode": {
    "name": "ipython",
    "version": 3
   },
   "file_extension": ".py",
   "mimetype": "text/x-python",
   "name": "python",
   "nbconvert_exporter": "python",
   "pygments_lexer": "ipython3",
   "version": "3.5.2"
  }
 },
 "nbformat": 4,
 "nbformat_minor": 2
}
