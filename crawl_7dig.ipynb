{
 "cells": [
  {
   "cell_type": "code",
   "execution_count": null,
   "metadata": {
    "collapsed": true
   },
   "outputs": [],
   "source": [
    "# SKIP\n",
    "# public code - not needed\n",
    "import oauth2 as oauth\n",
    "\n",
    "consumer_key = '7d74k9aa6fcy'\n",
    "consumer_secret = '67yn9cpuzesrme7m'\n",
    "consumer = oauth.Consumer(consumer_key, consumer_secret)\n",
    "request_url = \"http://previews.7digital.com/clip/14259160\"\n",
    "#request_url = \"http://previews.7digital.com/clip\"\n",
    "\n",
    "req = oauth.Request(method=\"GET\", url=request_url,is_form_encoded=True)\n",
    "\n",
    "req['oauth_timestamp'] = oauth.Request.make_timestamp()\n",
    "req['oauth_nonce'] = oauth.Request.make_nonce()\n",
    "req['trackId'] = '14259160'\n",
    "req['country'] = 'ww'\n",
    "\n",
    "sig_method = oauth.SignatureMethod_HMAC_SHA1()\n",
    "\n",
    "req.sign_request(sig_method, consumer, token=None)\n",
    "\n",
    "print(req.to_url())"
   ]
  },
  {
   "cell_type": "code",
   "execution_count": null,
   "metadata": {
    "collapsed": true
   },
   "outputs": [],
   "source": [
    "# SKIP\n",
    "# Get release ids\n",
    "import oauth2 as oauth\n",
    "\n",
    "request_url = \"http://api.7digital.com/1.2/track/details\"\n",
    "\n",
    "req = oauth.Request(method=\"GET\", url=request_url,is_form_encoded=True)\n",
    "req['trackId'] = '123456'\n",
    "req['oauth_consumer_key'] = '7digital.com'\n",
    "req['country'] = 'GB'\n",
    "req['usageTypes'] = 'download'\n",
    "\n",
    "trckDetailsURL = req.to_url()\n",
    "#trackDeatilsXML = \n",
    "\n",
    "# example :\n",
    "#\"http://api.7digital.com/1.2/track/details?trackid=123456&oauth_consumer_key=7digital.com&country=GB&usageTypes=download\""
   ]
  },
  {
   "cell_type": "code",
   "execution_count": 1,
   "metadata": {
    "collapsed": true
   },
   "outputs": [],
   "source": [
    "import pandas as pd"
   ]
  },
  {
   "cell_type": "code",
   "execution_count": 2,
   "metadata": {
    "collapsed": true
   },
   "outputs": [],
   "source": [
    "# python 3\n",
    "import pickle\n",
    "\n",
    "#with open('/Users/dmarcous/Downloads/EN_to_7D.pkl', 'rb') as f:\n",
    "with open('/Users/dmarcous/git/wavenetmusicrecommendation/data/EN_to_7D.pkl', 'rb') as f:\n",
    "    idlist = pickle.load(f)"
   ]
  },
  {
   "cell_type": "code",
   "execution_count": 3,
   "metadata": {},
   "outputs": [
    {
     "data": {
      "text/plain": [
       "384546"
      ]
     },
     "execution_count": 3,
     "metadata": {},
     "output_type": "execute_result"
    }
   ],
   "source": [
    "len(idlist)"
   ]
  },
  {
   "cell_type": "code",
   "execution_count": 4,
   "metadata": {},
   "outputs": [
    {
     "data": {
      "text/plain": [
       "['7307902', '659454']"
      ]
     },
     "execution_count": 4,
     "metadata": {},
     "output_type": "execute_result"
    }
   ],
   "source": [
    "msdTo7digMap = {k: v for k, v in idlist.items() if len(v) == 1 and len(v[0]) == 2}\n",
    "msdTo7digMap = {k: [vi.replace(\":\", \"\") for vi in v[0]] for k, v in msdTo7digMap.items()}\n",
    "#idlist[\"SOAAADD12AB018A9DD\"]\n",
    "idlist[\"SOAAADD12AB018A9DD\"][0]"
   ]
  },
  {
   "cell_type": "code",
   "execution_count": 5,
   "metadata": {},
   "outputs": [
    {
     "data": {
      "text/plain": [
       "177740"
      ]
     },
     "execution_count": 5,
     "metadata": {},
     "output_type": "execute_result"
    }
   ],
   "source": [
    "len(msdTo7digMap)\n",
    "#177740"
   ]
  },
  {
   "cell_type": "code",
   "execution_count": 6,
   "metadata": {},
   "outputs": [
    {
     "name": "stdout",
     "output_type": "stream",
     "text": [
      "SOAAADD12AB018A9DD\n",
      "['7307902', '659454']\n",
      "False\n"
     ]
    }
   ],
   "source": [
    "import os\n",
    "audio_dir = '/Users/dmarcous/git/wavenetmusicrecommendation/data/audio_clips/'\n",
    "downloaded_clip_list = os.listdir(audio_dir)\n",
    "downloadedClipNameList = [ fname.split(\".\")[0] for fname in downloaded_clip_list]\n",
    "cleanClipMap = {k: msdTo7digMap[k] for k in msdTo7digMap if k not in downloadedClipNameList}\n",
    "\n",
    "print(downloadedClipNameList[0])\n",
    "print(msdTo7digMap[downloadedClipNameList[0]])\n",
    "print(downloadedClipNameList[0] in cleanClipMap)"
   ]
  },
  {
   "cell_type": "code",
   "execution_count": 7,
   "metadata": {},
   "outputs": [
    {
     "data": {
      "text/plain": [
       "95476"
      ]
     },
     "execution_count": 7,
     "metadata": {},
     "output_type": "execute_result"
    }
   ],
   "source": [
    "len(cleanClipMap)"
   ]
  },
  {
   "cell_type": "code",
   "execution_count": 8,
   "metadata": {
    "collapsed": true
   },
   "outputs": [],
   "source": [
    "# crawl functions\n",
    "import urllib\n",
    "import sys\n",
    "from urllib.request import urlretrieve\n",
    "\n",
    "def generateDownloadClipURL(releaseId, trackId):\n",
    "    base_url = \"https://us.7digital.com/stream/release/\"\n",
    "    download_url = base_url + releaseId + '/track/' + trackId + '/mp3'\n",
    "    return(download_url)\n",
    "\n",
    "def downloadClip(trackId_msd, releaseId_7dig, trackId_7dig):\n",
    "    download_url = generateDownloadClipURL(releaseId_7dig, trackId_7dig)\n",
    "    local_dir = '/Users/dmarcous/git/wavenetmusicrecommendation/data/audio_clips/'\n",
    "    local_file = trackId_msd + '.mp3'\n",
    "    download_path = local_dir + local_file\n",
    "    print(download_url)\n",
    "    try:\n",
    "        urlretrieve(download_url, download_path)\n",
    "    except urllib.error.HTTPError as e:\n",
    "        print(\"Track not found! HTTP error({0}): {1}\".format(e.errno, e.strerror))\n",
    "    except:\n",
    "        print(\"Unexpected error:\")#, sys.exc_info()[0])\n",
    "        #raise\n"
   ]
  },
  {
   "cell_type": "code",
   "execution_count": null,
   "metadata": {},
   "outputs": [
    {
     "name": "stdout",
     "output_type": "stream",
     "text": [
      "1: downloading song SODPBKY12A6702169C\n",
      "https://us.7digital.com/stream/release/15583/track/163813/mp3\n",
      "Track not found! HTTP error(None): None\n",
      "https://us.7digital.com/stream/release/500850/track/5547207/mp3\n",
      "Track not found! HTTP error(None): None\n",
      "55203: downloading song SOZWKAT12AB01898B6\n",
      "https://us.7digital.com/stream/release/053072/track/2168284/mp3\n",
      "Track not found! HTTP error(None): None\n",
      "55204: downloading song SOOFFJG12AB017B674\n",
      "https://us.7digital.com/stream/release/490817/track/5438653/mp3\n",
      "Track not found! HTTP error(None): None\n",
      "55205: downloading song SOPLQOS12A6D4F8716\n",
      "https://us.7digital.com/stream/release/34505/track/369309/mp3\n"
     ]
    }
   ],
   "source": [
    "# python 3\n",
    "index = 1\n",
    "for key in list(cleanClipMap):\n",
    "    value = cleanClipMap[key]\n",
    "    trackId_msd = key\n",
    "    trackId_7dig = value[0]\n",
    "    releaseId_7dig = value[1]\n",
    "    print(str(index) + ': downloading song ' + trackId_msd) \n",
    "    downloadClip(trackId_msd, releaseId_7dig, trackId_7dig)\n",
    "    del cleanClipMap[key]\n",
    "    index = index + 1\n",
    "    #break\n",
    "# 41370"
   ]
  },
  {
   "cell_type": "code",
   "execution_count": null,
   "metadata": {
    "collapsed": true
   },
   "outputs": [],
   "source": [
    "#list(cleanClipMap.items())[0][]\n",
    "#msdTo7digMap['SODPBKY12A6702169C'][0]\n",
    "cleanClipMap['SODPBKY12A6702169C'][0]"
   ]
  },
  {
   "cell_type": "code",
   "execution_count": null,
   "metadata": {
    "collapsed": true
   },
   "outputs": [],
   "source": [
    "print(1)"
   ]
  },
  {
   "cell_type": "code",
   "execution_count": null,
   "metadata": {
    "collapsed": true
   },
   "outputs": [],
   "source": []
  }
 ],
 "metadata": {
  "kernelspec": {
   "display_name": "Python 3",
   "language": "python",
   "name": "python3"
  },
  "language_info": {
   "codemirror_mode": {
    "name": "ipython",
    "version": 3
   },
   "file_extension": ".py",
   "mimetype": "text/x-python",
   "name": "python",
   "nbconvert_exporter": "python",
   "pygments_lexer": "ipython3",
   "version": "3.6.1"
  }
 },
 "nbformat": 4,
 "nbformat_minor": 2
}
